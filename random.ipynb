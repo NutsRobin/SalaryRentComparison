{
 "cells": [
  {
   "cell_type": "code",
   "execution_count": 4,
   "metadata": {},
   "outputs": [
    {
     "name": "stdout",
     "output_type": "stream",
     "text": [
      "           RegionName StateName   2022-05-31\n",
      "1        New York, NY        NY  3124.836679\n",
      "2     Los Angeles, CA        CA  2867.111785\n",
      "3         Chicago, IL        IL  1817.544156\n",
      "4          Dallas, TX        TX  1764.434052\n",
      "5         Houston, TX        TX  1604.568829\n",
      "..                ...       ...          ...\n",
      "546  Rock Springs, WY        WY  1065.417976\n",
      "556     Williston, ND        ND   864.327477\n",
      "560       Laramie, WY        WY  1023.394956\n",
      "562       Fremont, NE        NE   916.304426\n",
      "567  North Platte, NE        NE   912.412797\n",
      "\n",
      "[400 rows x 3 columns]\n"
     ]
    }
   ],
   "source": [
    "import pandas as pd\n",
    "import matplotlib.pyplot as plt\n",
    "import numpy as np\n",
    "import pprint as pp\n",
    "\n",
    "# get the RegionName, StateName, 2022-May-31 -> drop NaN\n",
    "def preprocess_zillow():\n",
    "    zillow_df = pd.read_csv(\"./data/Metro_zori_sm_month.csv\")\n",
    "    df = pd.DataFrame(zillow_df, columns=['RegionName', 'StateName', '2022-05-31'])\n",
    "    df = df.dropna()\n",
    "    return df\n",
    "\n",
    "\n",
    "df = preprocess_zillow()\n",
    "print(df)"
   ]
  }
 ],
 "metadata": {
  "kernelspec": {
   "display_name": "Python 3.11.5 ('.venv': venv)",
   "language": "python",
   "name": "python3"
  },
  "language_info": {
   "codemirror_mode": {
    "name": "ipython",
    "version": 3
   },
   "file_extension": ".py",
   "mimetype": "text/x-python",
   "name": "python",
   "nbconvert_exporter": "python",
   "pygments_lexer": "ipython3",
   "version": "3.11.5"
  },
  "orig_nbformat": 4,
  "vscode": {
   "interpreter": {
    "hash": "5da370c730457e40af90736fd26f7156c08a7a225fbd6c1c9bb0b4696b6407bf"
   }
  }
 },
 "nbformat": 4,
 "nbformat_minor": 2
}
